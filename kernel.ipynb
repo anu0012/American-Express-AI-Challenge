{
  "cells": [
    {
      "metadata": {
        "_uuid": "8f2839f25d086af736a60e9eeb907d3b93b6e0e5",
        "_cell_guid": "b1076dfc-b9ad-4769-8c92-a6c4dae69d19",
        "trusted": true,
        "collapsed": true
      },
      "cell_type": "code",
      "source": "import numpy as np\nimport os\nimport pandas as pd\nimport sys\nimport matplotlib.pyplot as plt\n%matplotlib inline\nfrom sklearn.model_selection import train_test_split\nfrom sklearn.naive_bayes import MultinomialNB, BernoulliNB, GaussianNB\nfrom sklearn.svm import LinearSVC,SVC\nfrom sklearn.ensemble import RandomForestClassifier, GradientBoostingClassifier, VotingClassifier, ExtraTreesClassifier, AdaBoostClassifier, BaggingClassifier\nfrom sklearn.linear_model import SGDClassifier, LogisticRegression\nfrom sklearn.linear_model import Ridge, RidgeCV, ElasticNet, LassoCV, LassoLarsCV\nfrom sklearn.preprocessing import StandardScaler,MinMaxScaler\nfrom sklearn.tree import DecisionTreeClassifier\nfrom sklearn.metrics import confusion_matrix, f1_score, accuracy_score, roc_auc_score, recall_score, precision_score,make_scorer\nimport seaborn as sns\nsns.set(color_codes=True)\nfrom scipy import stats\nfrom scipy.stats import norm, skew #for some statistics\nimport xgboost as xgb\nimport lightgbm as lgb\nfrom catboost import CatBoostClassifier\nnp.random.seed(25)\nimport os",
      "execution_count": null,
      "outputs": []
    },
    {
      "metadata": {
        "_cell_guid": "79c7e3d0-c299-4dcb-8224-4455121ee9b0",
        "collapsed": true,
        "_uuid": "d629ff2d2480ee46fbb7e2d37f6b5fab8052498a",
        "trusted": true
      },
      "cell_type": "code",
      "source": "plt.rcParams['xtick.labelsize'] = 15\nplt.rcParams['ytick.labelsize'] = 15\nplt.rcParams['font.size'] = 15",
      "execution_count": null,
      "outputs": []
    },
    {
      "metadata": {
        "trusted": true,
        "collapsed": true,
        "_uuid": "569abaa6a799156f597ff9d5ba0dfcd8bed65557"
      },
      "cell_type": "code",
      "source": "train = pd.read_csv(\"../input/train.csv\",header=None)\ntest = pd.read_csv(\"../input/test.csv\",header=None)",
      "execution_count": null,
      "outputs": []
    },
    {
      "metadata": {
        "trusted": true,
        "_uuid": "ab8b3111f88016535cd2aeed48559a3ab38fe755",
        "collapsed": true
      },
      "cell_type": "code",
      "source": "train.head()",
      "execution_count": null,
      "outputs": []
    },
    {
      "metadata": {
        "trusted": true,
        "_uuid": "9a0fbeffd1e144956df3a5dd0c303ad9400566ea",
        "collapsed": true
      },
      "cell_type": "code",
      "source": "test.head()",
      "execution_count": null,
      "outputs": []
    },
    {
      "metadata": {
        "trusted": true,
        "_uuid": "da335380bf743dbb396cb6db7dade672d5e2a498",
        "collapsed": true
      },
      "cell_type": "code",
      "source": "header = pd.read_csv('../input/header.csv')\nheader.head()",
      "execution_count": null,
      "outputs": []
    },
    {
      "metadata": {
        "trusted": true,
        "collapsed": true,
        "_uuid": "d84df8494d0abfd9086597274257440c589d1f64"
      },
      "cell_type": "code",
      "source": "columns = train.columns\nnew_columns = []\nfor i in range(len(columns)):\n    if i == 0:\n        new_columns.append('key')\n    elif i == (len(columns) - 1):\n        new_columns.append('label')\n    else:\n        new_columns.append(\"V\"+str(i))\n    \ntrain.columns = new_columns",
      "execution_count": null,
      "outputs": []
    },
    {
      "metadata": {
        "trusted": true,
        "collapsed": true,
        "_uuid": "ccb16824597333b22d0dbc940ff1457e18b2c836"
      },
      "cell_type": "code",
      "source": "columns = test.columns\nnew_columns = []\nfor i in range(len(columns)):\n    if i == 0:\n        new_columns.append('key')\n    else:\n        new_columns.append(\"V\"+str(i))\n    \ntest.columns = new_columns",
      "execution_count": null,
      "outputs": []
    },
    {
      "metadata": {
        "trusted": true,
        "_uuid": "f4c3d1fdfd469e2e5dd8a932a0b8b8c22c670fa9",
        "collapsed": true
      },
      "cell_type": "code",
      "source": "train.isnull().sum(axis=0)",
      "execution_count": null,
      "outputs": []
    },
    {
      "metadata": {
        "trusted": true,
        "_uuid": "b94633fcf69cb11565c7a7403f532df7d884280f",
        "collapsed": true
      },
      "cell_type": "code",
      "source": "train.duplicated().sum()",
      "execution_count": null,
      "outputs": []
    },
    {
      "metadata": {
        "trusted": true,
        "_uuid": "aa526c913996b40161b5424b8e17dac43f0a6a34",
        "collapsed": true
      },
      "cell_type": "code",
      "source": "sns.countplot(train['label'])",
      "execution_count": null,
      "outputs": []
    },
    {
      "metadata": {
        "trusted": true,
        "_uuid": "ca23d833e2798e729b239fe09fb539ef9c64707e",
        "collapsed": true
      },
      "cell_type": "code",
      "source": "# call regplot on each axes\nfig, (ax1, ax2) = plt.subplots(ncols=2, sharey=False)\nsns.distplot(train['V1'],ax=ax1)\nsns.distplot(np.log(train['V1']),ax=ax2)",
      "execution_count": null,
      "outputs": []
    },
    {
      "metadata": {
        "trusted": true,
        "_uuid": "3980a7740da2ee816e68c776688079623e0849c8",
        "collapsed": true
      },
      "cell_type": "code",
      "source": "# call regplot on each axes\nfig, (ax1, ax2) = plt.subplots(ncols=2, sharey=False)\nsns.distplot(train['V2'],ax=ax1)\nsns.distplot(np.log(train['V2'] + 1),ax=ax2)",
      "execution_count": null,
      "outputs": []
    },
    {
      "metadata": {
        "trusted": true,
        "_uuid": "5b81e67391035001360fff9c85539b1b02ce9299",
        "collapsed": true
      },
      "cell_type": "code",
      "source": "# call regplot on each axes\nfig, (ax1, ax2) = plt.subplots(ncols=2, sharey=False)\nsns.distplot(train['V3'],ax=ax1)\nsns.distplot(np.log(train['V3'] + 1),ax=ax2)",
      "execution_count": null,
      "outputs": []
    },
    {
      "metadata": {
        "trusted": true,
        "_uuid": "43b63b6a47485ea23fc70a8eeffb31bdc4ca3607",
        "collapsed": true
      },
      "cell_type": "code",
      "source": "# call regplot on each axes\nfig, (ax1, ax2) = plt.subplots(ncols=2, sharey=False)\nsns.distplot(train['V4'],ax=ax1)\nsns.distplot(np.log(train['V4'] + 1),ax=ax2)",
      "execution_count": null,
      "outputs": []
    },
    {
      "metadata": {
        "trusted": true,
        "_uuid": "d79a97842173c3f33efb6a040fa5f9e17a74ab05",
        "collapsed": true
      },
      "cell_type": "code",
      "source": "# # call regplot on each axes\n# fig, (ax1, ax2) = plt.subplots(ncols=2, sharey=False)\n# sns.distplot(train['V5'],ax=ax1)\n# sns.distplot(np.log(train['V5'] ),ax=ax2)",
      "execution_count": null,
      "outputs": []
    },
    {
      "metadata": {
        "trusted": true,
        "_uuid": "87ae28545db814ec31dde73571fbc4e845e843c0",
        "collapsed": true
      },
      "cell_type": "code",
      "source": "# call regplot on each axes\nfig, (ax1, ax2) = plt.subplots(ncols=2, sharey=False)\nsns.distplot(train['V6'],ax=ax1)\nsns.distplot(np.log(train['V6'] + 1),ax=ax2)",
      "execution_count": null,
      "outputs": []
    },
    {
      "metadata": {
        "trusted": true,
        "_uuid": "b378a925ce3882a7529cd344e235b6b38b38c4dc",
        "collapsed": true
      },
      "cell_type": "code",
      "source": "# call regplot on each axes\nfig, (ax1, ax2) = plt.subplots(ncols=2, sharey=False)\nsns.distplot(train['V7'],ax=ax1)\nsns.distplot(np.log(train['V7'] + 1),ax=ax2)",
      "execution_count": null,
      "outputs": []
    },
    {
      "metadata": {
        "trusted": true,
        "_uuid": "3248cd33143935652d698bd69b7ad17cc752157f",
        "collapsed": true
      },
      "cell_type": "code",
      "source": "# call regplot on each axes\nfig, (ax1, ax2) = plt.subplots(ncols=2, sharey=False)\nsns.distplot(train['V8'],ax=ax1)\nsns.distplot(np.log(train['V8'] + 1),ax=ax2)",
      "execution_count": null,
      "outputs": []
    },
    {
      "metadata": {
        "trusted": true,
        "_uuid": "30a7471091e8803ccda01a6c0c398b4d2ac561b4",
        "collapsed": true
      },
      "cell_type": "code",
      "source": "# call regplot on each axes\nfig, (ax1, ax2) = plt.subplots(ncols=2, sharey=False)\nsns.distplot(train['V9'],ax=ax1)\nsns.distplot(np.log(train['V9'] + 1),ax=ax2)",
      "execution_count": null,
      "outputs": []
    },
    {
      "metadata": {
        "trusted": true,
        "_uuid": "048e56754ee6589c641f5ce15095ccef12e977ed",
        "collapsed": true
      },
      "cell_type": "code",
      "source": "# call regplot on each axes\nfig, (ax1, ax2) = plt.subplots(ncols=2, sharey=False)\nsns.distplot(train['V10'],ax=ax1)\nsns.distplot(np.log(train['V10'] + 1),ax=ax2)",
      "execution_count": null,
      "outputs": []
    },
    {
      "metadata": {
        "trusted": true,
        "_uuid": "7c6c3d8d1eb6b2f9b50d71c3093af863ba0c5b6a",
        "collapsed": true
      },
      "cell_type": "code",
      "source": "col=train.columns\nfor i in col:\n    if train[i].sum() == 0:\n        print(i)",
      "execution_count": null,
      "outputs": []
    },
    {
      "metadata": {
        "_uuid": "4a4f365d70373f7a53af714bfb82d33cc997b9e0"
      },
      "cell_type": "markdown",
      "source": "No Column with all zero values."
    },
    {
      "metadata": {
        "trusted": true,
        "_uuid": "cda9f0a6670ce571bc5a3d7eede8a6f022a21693",
        "collapsed": true
      },
      "cell_type": "code",
      "source": "#correlation matrix\ncorrmat = train.corr()\nf, ax = plt.subplots(figsize=(12, 9))\nsns.heatmap(corrmat, square=True);",
      "execution_count": null,
      "outputs": []
    },
    {
      "metadata": {
        "trusted": true,
        "_uuid": "b000aa21e294455b1d332c5f2bc20eb534a0b6a2",
        "collapsed": true
      },
      "cell_type": "code",
      "source": "# from patsy import dmatrices\n# import statsmodels.api as sm\n# from statsmodels.stats.outliers_influence import variance_inflation_factor\n\n# df = train[feature_names].copy()\n# feature_names = [x for x in df.columns if x not in ['label']]\n# #gather features\n# features = \"+\".join(df[feature_names].columns)\n\n# # get y and X dataframes based on this regression:\n# y, X = dmatrices('label ~' + features, df, return_type='dataframe')",
      "execution_count": null,
      "outputs": []
    },
    {
      "metadata": {
        "trusted": true,
        "_uuid": "f14e01087918c01d4f04a3d8923447fe706b5aef",
        "collapsed": true
      },
      "cell_type": "code",
      "source": "# # For each X, calculate VIF and save in dataframe\n# vif = pd.DataFrame()\n# vif[\"VIF Factor\"] = [variance_inflation_factor(X.values, i) for i in range(X.shape[1])]\n# vif[\"features\"] = X.columns\n\n# vif.round(1)",
      "execution_count": null,
      "outputs": []
    },
    {
      "metadata": {
        "trusted": true,
        "collapsed": true,
        "_uuid": "a47ab18fd8f0b93ba3498338ab5f53656105850e"
      },
      "cell_type": "code",
      "source": "feature_names = [x for x in train.columns if x not in ['key', 'label','V7','V8','V9']]\ntarget = train['label']",
      "execution_count": null,
      "outputs": []
    },
    {
      "metadata": {
        "trusted": true,
        "_uuid": "8efa6ef2effbc09408c751a10cb04d03d24cc334",
        "collapsed": true
      },
      "cell_type": "code",
      "source": "# cat_columns = np.arange(7,51)\n# cat_columns",
      "execution_count": null,
      "outputs": []
    },
    {
      "metadata": {
        "trusted": true,
        "_uuid": "9d6b6f8a05163a196a19270615389823d3cd8d1f",
        "collapsed": true
      },
      "cell_type": "code",
      "source": "# model = ExtraTreesClassifier(n_estimators=500)\n# ## model training and prediction\n# model.fit(train[feature_names],target)\n# pred1 = model.predict_proba(test[feature_names])[:,1]",
      "execution_count": null,
      "outputs": []
    },
    {
      "metadata": {
        "trusted": true,
        "_uuid": "56226fc79cf94e58dc9a580dfacba9a1c0128a12",
        "collapsed": true
      },
      "cell_type": "code",
      "source": "model = lgb.LGBMClassifier(device_type='gpu',boosting='dart',num_leaves=150,\n                      learning_rate=0.05, n_estimators=10000, max_depth=15,\n                      metric='auc',is_training_metric=True,\n                      max_bin = 700, bagging_fraction = 0.8,verbose=-1,\n                      bagging_freq = 5, feature_fraction = 0.80) ## model training and prediction\nmodel.fit(train[feature_names],target)\npred2 = model.predict_proba(test[feature_names])[:,1]",
      "execution_count": null,
      "outputs": []
    },
    {
      "metadata": {
        "trusted": true,
        "_uuid": "04b5870f108dd83376dfc34c1ef3e0113f3c0a86",
        "collapsed": true
      },
      "cell_type": "code",
      "source": "#model.feature_importances_",
      "execution_count": null,
      "outputs": []
    },
    {
      "metadata": {
        "trusted": true,
        "collapsed": true,
        "_uuid": "c9fa0cbae87567e679c9b324f13a58fdb920a113"
      },
      "cell_type": "code",
      "source": "pred = pred2#pred1 * 0.4 + pred2 * 0.6",
      "execution_count": null,
      "outputs": []
    },
    {
      "metadata": {
        "trusted": true,
        "collapsed": true,
        "_uuid": "207ec974e3b816dbaa9fb30e2438b040bdace6a7"
      },
      "cell_type": "code",
      "source": "## make submission\nsub = pd.DataFrame()\nsub['key'] = test['key']\nsub['score'] = pred\nsub.to_csv('result.csv', index=False)",
      "execution_count": null,
      "outputs": []
    },
    {
      "metadata": {
        "trusted": true,
        "_uuid": "d56a575409eb38194fdd301710924363edce1d64",
        "collapsed": true
      },
      "cell_type": "code",
      "source": "sub.head()",
      "execution_count": null,
      "outputs": []
    },
    {
      "metadata": {
        "trusted": true,
        "collapsed": true,
        "_uuid": "ff4303d7f6e4bf4570a25ec5b334aea714795daa"
      },
      "cell_type": "code",
      "source": "",
      "execution_count": null,
      "outputs": []
    }
  ],
  "metadata": {
    "kernelspec": {
      "display_name": "Python 3",
      "language": "python",
      "name": "python3"
    },
    "language_info": {
      "name": "python",
      "version": "3.6.4",
      "mimetype": "text/x-python",
      "codemirror_mode": {
        "name": "ipython",
        "version": 3
      },
      "pygments_lexer": "ipython3",
      "nbconvert_exporter": "python",
      "file_extension": ".py"
    }
  },
  "nbformat": 4,
  "nbformat_minor": 1
}